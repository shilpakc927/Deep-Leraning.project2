{
 "cells": [
  {
   "cell_type": "code",
   "execution_count": 65,
   "id": "419bf473-cc62-41f6-9344-1d3c878bed49",
   "metadata": {},
   "outputs": [],
   "source": [
    "import pandas as pd\n",
    "import tensorflow as tf\n",
    "import pickle\n",
    "import joblib\n",
    "from tensorflow.keras.models import Sequential\n",
    "from tensorflow.keras.layers import Embedding, LSTM, Dense\n",
    "from tensorflow.keras.preprocessing.text import Tokenizer\n",
    "from tensorflow.keras.preprocessing.sequence import pad_sequences\n",
    "from sklearn.model_selection import train_test_split"
   ]
  },
  {
   "cell_type": "code",
   "execution_count": 67,
   "id": "b22008b8-eea4-4183-902a-977d59932bb1",
   "metadata": {},
   "outputs": [],
   "source": [
    "df = pd.read_csv(\"spam.csv\", encoding='latin-1')[['v1', 'v2']]\n",
    "df.columns = ['label', 'message']\n"
   ]
  },
  {
   "cell_type": "code",
   "execution_count": 69,
   "id": "ab3972ee-41ac-45fd-aff9-76e279668ba1",
   "metadata": {},
   "outputs": [],
   "source": [
    "# Convert labels to binary (ham=0, spam=1)\n",
    "df['label'] = df['label'].map({'ham': 0, 'spam': 1})\n",
    "\n",
    "texts = df['message'].astype(str).tolist()\n",
    "labels = df['label'].values"
   ]
  },
  {
   "cell_type": "code",
   "execution_count": 71,
   "id": "7897b84c-c3bf-46ed-a6e0-3ffe23761921",
   "metadata": {},
   "outputs": [],
   "source": [
    "# 2. Tokenize the text\n",
    "max_words = 5000\n",
    "max_len = 100\n",
    "\n",
    "tokenizer = Tokenizer(num_words=max_words, oov_token=\"<OOV>\")\n",
    "tokenizer.fit_on_texts(texts)\n",
    "\n",
    "sequences = tokenizer.texts_to_sequences(texts)\n",
    "padded_sequences = pad_sequences(sequences, maxlen=max_len)"
   ]
  },
  {
   "cell_type": "code",
   "execution_count": 73,
   "id": "5ed78053-0f7f-4c30-b655-2bec2578c229",
   "metadata": {},
   "outputs": [],
   "source": [
    "#3. Train-test split\n",
    "x_train, x_test, y_train, y_test = train_test_split(\n",
    "    padded_sequences, labels, test_size=0.2, random_state=42)\n"
   ]
  },
  {
   "cell_type": "code",
   "execution_count": 75,
   "id": "88ac6248-4cbd-4890-8cd5-9cc5e1e8e74e",
   "metadata": {},
   "outputs": [
    {
     "name": "stderr",
     "output_type": "stream",
     "text": [
      "C:\\Users\\Dell\\anaconda3\\Lib\\site-packages\\keras\\src\\layers\\core\\embedding.py:97: UserWarning: Argument `input_length` is deprecated. Just remove it.\n",
      "  warnings.warn(\n"
     ]
    }
   ],
   "source": [
    "# 4. Build LSTM model\n",
    "model = Sequential()\n",
    "model.add(Embedding(input_dim=max_words, output_dim=64, input_length=max_len))\n",
    "model.add(LSTM(64))\n",
    "model.add(Dense(1, activation='sigmoid'))\n",
    "\n",
    "model.compile(optimizer='adam', loss='binary_crossentropy', metrics=['accuracy'])\n"
   ]
  },
  {
   "cell_type": "code",
   "execution_count": 77,
   "id": "e6a60c5a-1d0a-41a8-9367-911fe3035e0c",
   "metadata": {},
   "outputs": [
    {
     "name": "stdout",
     "output_type": "stream",
     "text": [
      "Epoch 1/5\n",
      "\u001b[1m56/56\u001b[0m \u001b[32m━━━━━━━━━━━━━━━━━━━━\u001b[0m\u001b[37m\u001b[0m \u001b[1m11s\u001b[0m 90ms/step - accuracy: 0.8130 - loss: 0.5405 - val_accuracy: 0.9619 - val_loss: 0.1746\n",
      "Epoch 2/5\n",
      "\u001b[1m56/56\u001b[0m \u001b[32m━━━━━━━━━━━━━━━━━━━━\u001b[0m\u001b[37m\u001b[0m \u001b[1m4s\u001b[0m 75ms/step - accuracy: 0.9761 - loss: 0.1403 - val_accuracy: 0.9832 - val_loss: 0.0689\n",
      "Epoch 3/5\n",
      "\u001b[1m56/56\u001b[0m \u001b[32m━━━━━━━━━━━━━━━━━━━━\u001b[0m\u001b[37m\u001b[0m \u001b[1m5s\u001b[0m 85ms/step - accuracy: 0.9951 - loss: 0.0394 - val_accuracy: 0.9809 - val_loss: 0.0671\n",
      "Epoch 4/5\n",
      "\u001b[1m56/56\u001b[0m \u001b[32m━━━━━━━━━━━━━━━━━━━━\u001b[0m\u001b[37m\u001b[0m \u001b[1m5s\u001b[0m 93ms/step - accuracy: 0.9944 - loss: 0.0290 - val_accuracy: 0.9787 - val_loss: 0.0692\n",
      "Epoch 5/5\n",
      "\u001b[1m56/56\u001b[0m \u001b[32m━━━━━━━━━━━━━━━━━━━━\u001b[0m\u001b[37m\u001b[0m \u001b[1m7s\u001b[0m 116ms/step - accuracy: 0.9982 - loss: 0.0106 - val_accuracy: 0.9865 - val_loss: 0.0481\n"
     ]
    },
    {
     "data": {
      "text/plain": [
       "<keras.src.callbacks.history.History at 0x270d9e743b0>"
      ]
     },
     "execution_count": 77,
     "metadata": {},
     "output_type": "execute_result"
    }
   ],
   "source": [
    "from sklearn.utils.class_weight import compute_class_weight\n",
    "import numpy as np\n",
    "\n",
    "# Compute class weights from y_train\n",
    "class_weights = compute_class_weight(class_weight='balanced', classes=np.unique(y_train), y=y_train)\n",
    "class_weight_dict = dict(enumerate(class_weights))\n",
    "\n",
    "# Train model with class weights\n",
    "model.fit(x_train, y_train, epochs=5, batch_size=64, validation_split=0.2, class_weight=class_weight_dict)\n"
   ]
  },
  {
   "cell_type": "code",
   "execution_count": 79,
   "id": "813fccf2-d951-41ff-bc15-29c3b3d25ec5",
   "metadata": {},
   "outputs": [
    {
     "name": "stdout",
     "output_type": "stream",
     "text": [
      "\u001b[1m35/35\u001b[0m \u001b[32m━━━━━━━━━━━━━━━━━━━━\u001b[0m\u001b[37m\u001b[0m \u001b[1m1s\u001b[0m 31ms/step - accuracy: 0.9821 - loss: 0.0514\n",
      "Test Accuracy: 0.98\n"
     ]
    }
   ],
   "source": [
    "# 6. Evaluate\n",
    "loss, acc = model.evaluate(x_test, y_test)\n",
    "print(f\"Test Accuracy: {acc:.2f}\")\n"
   ]
  },
  {
   "cell_type": "code",
   "execution_count": 81,
   "id": "ee15ad88-66c6-4d7f-ac04-7f96a04d8179",
   "metadata": {},
   "outputs": [
    {
     "name": "stdin",
     "output_type": "stream",
     "text": [
      "\n",
      "Enter SMS (or type exit to quit):  Congratulations! You’ve won a $1000 gift card. Click here to claim now. URGENT: Your mobile number has won $500,000 in our draw. Reply WIN to claim. FREE entry into our weekly prize draw. Text WIN to 80088. Get cheap loans now with no credit check. Apply at www.easycash.com You’ve been selected for a special offer. Visit bit.ly/spamdeal Earn money from home in your spare time. Click here to start today! Exclusive offer just for you. Hurry before it expires! You have 1 unread voicemail. Click to listen: spamlink.com This is not a scam! You really won! Claim here: fakeoffer.net Lowest insurance rates guaranteed. Call now!\n"
     ]
    },
    {
     "name": "stdout",
     "output_type": "stream",
     "text": [
      "\u001b[1m1/1\u001b[0m \u001b[32m━━━━━━━━━━━━━━━━━━━━\u001b[0m\u001b[37m\u001b[0m \u001b[1m0s\u001b[0m 437ms/step\n",
      "Spam (1.00)\n"
     ]
    },
    {
     "name": "stdin",
     "output_type": "stream",
     "text": [
      "\n",
      "Enter SMS (or type exit to quit):  exit\n"
     ]
    }
   ],
   "source": [
    "# 7. Predict spam/ham from new SMS\n",
    "def encode_sms(text):\n",
    "    seq = tokenizer.texts_to_sequences([text])\n",
    "    pad = pad_sequences(seq, maxlen=max_len)\n",
    "    return pad\n",
    "\n",
    "while True:\n",
    "    sms = input(\"\\nEnter SMS (or type exit to quit): \")\n",
    "    if sms.lower() == 'exit':\n",
    "        break\n",
    "    pred = model.predict(encode_sms(sms))[0][0]\n",
    "    print(\"Spam\" if pred >= 0.4 else \"Ham\", f\"({pred:.2f})\")\n"
   ]
  },
  {
   "cell_type": "code",
   "execution_count": 83,
   "id": "a2a5f248-f357-4c55-8d69-1dd59b67a6ab",
   "metadata": {},
   "outputs": [],
   "source": [
    "pickle_filename='spam_model.pkl'\n",
    "with open(pickle_filename,'wb')as file:\n",
    "     pickle.dump(model, file)"
   ]
  },
  {
   "cell_type": "code",
   "execution_count": 85,
   "id": "a7b7ce43-611d-40b3-b60a-1181dd81aaea",
   "metadata": {},
   "outputs": [
    {
     "name": "stdout",
     "output_type": "stream",
     "text": [
      "Model save to spam_model.pkl\n"
     ]
    }
   ],
   "source": [
    "print(\"Model save to\",pickle_filename)"
   ]
  },
  {
   "cell_type": "code",
   "execution_count": 87,
   "id": "7fdb0977-5269-4af1-ba53-b22dab7ea109",
   "metadata": {},
   "outputs": [
    {
     "name": "stderr",
     "output_type": "stream",
     "text": [
      "WARNING:absl:You are saving your model as an HDF5 file via `model.save()` or `keras.saving.save_model(model)`. This file format is considered legacy. We recommend using instead the native Keras format, e.g. `model.save('my_model.keras')` or `keras.saving.save_model(model, 'my_model.keras')`. \n"
     ]
    }
   ],
   "source": [
    "model.save(\"C:/Users/Dell/Download/spam_model.h5\")\n"
   ]
  },
  {
   "cell_type": "code",
   "execution_count": 59,
   "id": "e8ef215e-dfe8-43c0-85aa-7c5e68439534",
   "metadata": {},
   "outputs": [
    {
     "name": "stdout",
     "output_type": "stream",
     "text": [
      "Model saved at: C:\\Users\\Dell\\spam_model.h5\n"
     ]
    }
   ],
   "source": [
    "import os\n",
    "print(\"Model saved at:\", os.path.abspath(\"spam_model.h5\"))\n"
   ]
  },
  {
   "cell_type": "code",
   "execution_count": 89,
   "id": "97241209-6c6f-4a7d-8ff1-02468651e688",
   "metadata": {},
   "outputs": [
    {
     "name": "stderr",
     "output_type": "stream",
     "text": [
      "WARNING:absl:You are saving your model as an HDF5 file via `model.save()` or `keras.saving.save_model(model)`. This file format is considered legacy. We recommend using instead the native Keras format, e.g. `model.save('my_model.keras')` or `keras.saving.save_model(model, 'my_model.keras')`. \n"
     ]
    },
    {
     "name": "stdout",
     "output_type": "stream",
     "text": [
      "Model saved at: C:/Users/Dell/Downloads/spam_model.h5\n"
     ]
    }
   ],
   "source": [
    "model.save(\"C:/Users/Dell/Downloads/spam_model.h5\")  # corrected 'Download' to 'Downloads'\n",
    "print(\"Model saved at: C:/Users/Dell/Downloads/spam_model.h5\")\n"
   ]
  },
  {
   "cell_type": "code",
   "execution_count": 93,
   "id": "44b45124-76ab-4183-a70a-64f58b6ee434",
   "metadata": {},
   "outputs": [],
   "source": [
    "import pickle\n",
    "\n",
    "# Save tokenizer\n",
    "with open(\"tokenizer.pkl\", \"wb\") as f:\n",
    "    pickle.dump(tokenizer, f)\n"
   ]
  },
  {
   "cell_type": "code",
   "execution_count": 105,
   "id": "50d55e07-26d4-4f53-9391-ec944e7d099d",
   "metadata": {},
   "outputs": [],
   "source": [
    "import pickle\n",
    "\n",
    "with open(\"C:/Users/Dell/Downloads/tokenizer.pkl\", \"wb\") as f:\n",
    "    pickle.dump(tokenizer, f)\n"
   ]
  },
  {
   "cell_type": "code",
   "execution_count": 107,
   "id": "4b28430c-c9cd-4280-a1bc-236d8f8b4982",
   "metadata": {},
   "outputs": [
    {
     "name": "stdout",
     "output_type": "stream",
     "text": [
      "Saving tokenizer to: C:\\Users\\Dell\n"
     ]
    }
   ],
   "source": [
    "import os\n",
    "print(\"Saving tokenizer to:\", os.getcwd())\n"
   ]
  },
  {
   "cell_type": "code",
   "execution_count": 95,
   "id": "f5be5986-7729-4e54-b1e9-558a4282e965",
   "metadata": {},
   "outputs": [
    {
     "name": "stdout",
     "output_type": "stream",
     "text": [
      "Model save to spam_model.pkl\n"
     ]
    }
   ],
   "source": [
    "print(\"Model save to\",pickle_filename)"
   ]
  },
  {
   "cell_type": "code",
   "execution_count": null,
   "id": "e81fa5e3-e8ac-404f-8669-a2be8c3b88ef",
   "metadata": {},
   "outputs": [],
   "source": []
  },
  {
   "cell_type": "code",
   "execution_count": null,
   "id": "5a444435-ab21-40d7-8665-33b9cbb55f8b",
   "metadata": {},
   "outputs": [],
   "source": []
  }
 ],
 "metadata": {
  "kernelspec": {
   "display_name": "Python 3 (ipykernel)",
   "language": "python",
   "name": "python3"
  },
  "language_info": {
   "codemirror_mode": {
    "name": "ipython",
    "version": 3
   },
   "file_extension": ".py",
   "mimetype": "text/x-python",
   "name": "python",
   "nbconvert_exporter": "python",
   "pygments_lexer": "ipython3",
   "version": "3.12.7"
  }
 },
 "nbformat": 4,
 "nbformat_minor": 5
}
